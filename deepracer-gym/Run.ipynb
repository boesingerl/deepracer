{
 "cells": [
  {
   "cell_type": "markdown",
   "id": "b29f7829",
   "metadata": {},
   "source": [
    "# Goal of the Notebook\n",
    "\n",
    "The goal of this notebook is to perform a single run with a trained model, like it will do on the grading part."
   ]
  },
  {
   "cell_type": "markdown",
   "id": "9cb3f1a9",
   "metadata": {},
   "source": [
    "#### Imports"
   ]
  },
  {
   "cell_type": "code",
   "execution_count": null,
   "id": "38b5cd17",
   "metadata": {},
   "outputs": [],
   "source": [
    "%matplotlib notebook\n",
    "\n",
    "import gym\n",
    "import numpy as np\n",
    "import cv2\n",
    "import matplotlib.pyplot as plt\n",
    "import deepracer_gym"
   ]
  },
  {
   "cell_type": "markdown",
   "id": "791b08c7",
   "metadata": {},
   "source": [
    "### Running Loop"
   ]
  },
  {
   "cell_type": "code",
   "execution_count": null,
   "id": "d933eadb",
   "metadata": {
    "scrolled": true
   },
   "outputs": [],
   "source": [
    "env = gym.make('deepracer_gym:deepracer-v0')\n",
    "\n",
    "obs = env.reset()\n",
    "\n",
    "print(\"Deepracer Environment Connected succesfully\")\n",
    "\n",
    "steps_completed = 0\n",
    "episodes_completed = 0\n",
    "total_reward = 0\n",
    "\n",
    "for stp in range(15_000):\n",
    "\n",
    "    observation, reward, done, info = env.step(2)\n",
    "    steps_completed += 1 \n",
    "    total_reward += reward\n",
    "    \n",
    "    if done:\n",
    "        episodes_completed += 1\n",
    "        print(\"Episodes Completed:\", episodes_completed, \"Steps:\", steps_completed, \"Reward\", total_reward)\n",
    "        steps_completed = 0\n",
    "        total_reward = 0"
   ]
  },
  {
   "cell_type": "markdown",
   "id": "9cd5ae64",
   "metadata": {},
   "source": [
    "## Action Space\n",
    "\n",
    "- {'steering_angle': -30, 'speed': 0.6},\n",
    "- {'steering_angle': -15, 'speed': 0.6},\n",
    "- {'steering_angle': 0, 'speed': 0.6},\n",
    "- {'steering_angle': 15, 'speed': 0.6},\n",
    "- {'steering_angle': 30, 'speed': 0.6}\n",
    "\n",
    "Can be found in \"/opt/ml/code/custom_files/agent/model_metadata.json\""
   ]
  }
 ],
 "metadata": {
  "kernelspec": {
   "display_name": "Python 3",
   "language": "python",
   "name": "python3"
  },
  "language_info": {
   "codemirror_mode": {
    "name": "ipython",
    "version": 3
   },
   "file_extension": ".py",
   "mimetype": "text/x-python",
   "name": "python",
   "nbconvert_exporter": "python",
   "pygments_lexer": "ipython3",
   "version": "3.6.13"
  }
 },
 "nbformat": 4,
 "nbformat_minor": 5
}
