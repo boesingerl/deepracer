{
 "cells": [
  {
   "cell_type": "markdown",
   "id": "cdc2b0f9",
   "metadata": {},
   "source": [
    "# Goal of the Notebook\n",
    "\n",
    "The idea of this notebook is to perform experiments with respect to Feature Extraction.\n",
    "\n",
    "Some ideas being :\n",
    "\n",
    "- Adding otsu thresholding as an observation\n",
    "- Adding disparity map between the two cameras as an observation\n",
    "- Trying out different CNN architectures for feature extraction (+LSTM?)\n",
    "- (Not exactly Feature Extraction, but trying out different algo types (DQN, etc))"
   ]
  },
  {
   "cell_type": "markdown",
   "id": "d2114658",
   "metadata": {},
   "source": [
    "### Imports"
   ]
  },
  {
   "cell_type": "code",
   "execution_count": 2,
   "id": "8624ab52",
   "metadata": {},
   "outputs": [],
   "source": [
    "import sys\n",
    "sys.path += ['../']\n",
    "\n",
    "# image processing\n",
    "import skimage\n",
    "import cv2\n",
    "\n",
    "# custom utils\n",
    "from utils.image import get_otsu, get_disparity\n",
    "from utils.imagewrapper import ImageWrap\n",
    "from utils.models import linear_schedule, BasicExtractor\n",
    "\n",
    "# math\n",
    "import numpy as np \n",
    "import math\n",
    "\n",
    "# plotting\n",
    "import matplotlib.pyplot as plt\n",
    "import utils\n",
    "\n",
    "# project specific\n",
    "import deepracer_gym\n",
    "from agents.deepracer_base_agent import DeepracerAgent\n",
    "\n",
    "# simulation and RL algo\n",
    "import gym\n",
    "from stable_baselines3 import A2C, PPO, DQN\n",
    "from stable_baselines3.common.torch_layers import BaseFeaturesExtractor\n",
    "from stable_baselines3.common.vec_env import DummyVecEnv, VecTransposeImage, SubprocVecEnv, VecEnvWrapper, VecEnv\n",
    "from stable_baselines3.common.vec_env.base_vec_env import VecEnv, VecEnvStepReturn, VecEnvWrapper\n",
    "from stable_baselines3.common.vec_env import VecExtractDictObs\n",
    "from stable_baselines3.common.monitor import Monitor\n",
    "from stable_baselines3.common.callbacks import CheckpointCallback\n",
    "\n",
    "# DL lib\n",
    "from torch.nn import Linear, ReLU, CrossEntropyLoss, Sequential, Conv2d, MaxPool2d, Module, Softmax, BatchNorm2d, Dropout\n",
    "from torch.optim import Adam, SGD\n",
    "\n",
    "%matplotlib notebook"
   ]
  },
  {
   "cell_type": "markdown",
   "id": "a39d32b7",
   "metadata": {},
   "source": [
    "# PPO Model Test "
   ]
  },
  {
   "cell_type": "markdown",
   "id": "47130f05",
   "metadata": {},
   "source": [
    "## Create Environment"
   ]
  },
  {
   "cell_type": "code",
   "execution_count": 7,
   "id": "c49a3bef",
   "metadata": {
    "scrolled": true
   },
   "outputs": [],
   "source": [
    "# Make sure we use 32bits tensors\n",
    "torch.set_default_dtype(torch.float32)\n",
    "\n",
    "# Load Environment with wrapper func\n",
    "start_env = lambda port : lambda: Monitor(ImageWrap(gym.make('deepracer_gym:deepracer-v0', port=port)))\n",
    "\n",
    "# Start two envs\n",
    "env = DummyVecEnv([start_env(8888), start_env(8889)])\n",
    "\n",
    "# Save models every 50_000 steps\n",
    "checkpoint_callback = CheckpointCallback(save_freq=50_000, save_path='./logs/',\n",
    "                                         name_prefix='1M_model')"
   ]
  },
  {
   "cell_type": "markdown",
   "id": "f76b44d5",
   "metadata": {},
   "source": [
    "## Load Model"
   ]
  },
  {
   "cell_type": "code",
   "execution_count": 12,
   "id": "9e23a94c",
   "metadata": {},
   "outputs": [
    {
     "name": "stdout",
     "output_type": "stream",
     "text": [
      "Wrapping the env in a VecTransposeImage.\n"
     ]
    }
   ],
   "source": [
    "model = PPO.load('not_bad',\n",
    "                 env=env,\n",
    "                 learning_rate=linear_schedule(1e-4),\n",
    "                 tensorboard_log=\"./a2c_new/\",\n",
    "                 device='cuda:0')"
   ]
  },
  {
   "cell_type": "markdown",
   "id": "c5fb132e",
   "metadata": {},
   "source": [
    "## Train "
   ]
  },
  {
   "cell_type": "code",
   "execution_count": null,
   "id": "fea2a5d3",
   "metadata": {},
   "outputs": [],
   "source": [
    "model.learn(total_timesteps=600_000, callback=checkpoint_callback)"
   ]
  }
 ],
 "metadata": {
  "kernelspec": {
   "display_name": "Python 3",
   "language": "python",
   "name": "python3"
  },
  "language_info": {
   "codemirror_mode": {
    "name": "ipython",
    "version": 3
   },
   "file_extension": ".py",
   "mimetype": "text/x-python",
   "name": "python",
   "nbconvert_exporter": "python",
   "pygments_lexer": "ipython3",
   "version": "3.6.13"
  }
 },
 "nbformat": 4,
 "nbformat_minor": 5
}
