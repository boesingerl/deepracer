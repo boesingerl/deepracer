{
 "cells": [
  {
   "cell_type": "markdown",
   "id": "9971b8ed",
   "metadata": {},
   "source": [
    "## Action Space\n",
    "\n",
    "- {'steering_angle': -30, 'speed': 0.6},\n",
    "- {'steering_angle': -15, 'speed': 0.6},\n",
    "- {'steering_angle': 0, 'speed': 0.6},\n",
    "- {'steering_angle': 15, 'speed': 0.6},\n",
    "- {'steering_angle': 30, 'speed': 0.6}\n",
    "\n",
    "Can be found in \"/opt/ml/code/custom_files/agent/model_metadata.json\""
   ]
  },
  {
   "cell_type": "code",
   "execution_count": null,
   "id": "fcc10439",
   "metadata": {},
   "outputs": [],
   "source": [
    "import gym\n",
    "import numpy as np\n",
    "\n",
    "import cv2\n",
    "import matplotlib.pyplot as plt\n",
    "\n",
    "%matplotlib notebook\n",
    "\n",
    "import deepracer_gym\n",
    "\n",
    "fig, axs = plt.subplots(ncols=2)\n",
    "imgl, imgr = None, None\n",
    "\n",
    "lefts  = []\n",
    "rights = []\n",
    "\n",
    "def render(obs):\n",
    "    global imgl\n",
    "    global imgr\n",
    "    global fig\n",
    "    \n",
    "    if not imgl:\n",
    "        \n",
    "        imgl = axs[0].imshow(obs['STEREO_CAMERAS'][:,:,0])\n",
    "        imgr = axs[1].imshow(obs['STEREO_CAMERAS'][:,:,1])\n",
    "        fig.canvas.draw()\n",
    "    \n",
    "    else:\n",
    "        \n",
    "        left, right = obs['STEREO_CAMERAS'][:,:,0], obs['STEREO_CAMERAS'][:,:,1]\n",
    "        \n",
    "        lefts.append(left)\n",
    "        rights.append(right)\n",
    "        \n",
    "        imgl.set_data(left)\n",
    "        imgr.set_data(right)\n",
    "        fig.canvas.draw()\n",
    "    \n",
    "env = gym.make('deepracer_gym:deepracer-v0')\n",
    "\n",
    "obs = env.reset()\n",
    "\n",
    "print(\"Deepracer Environment Connected succesfully\")\n",
    "\n",
    "steps_completed = 0\n",
    "episodes_completed = 0\n",
    "total_reward = 0\n",
    "\n",
    "for _ in range(500):\n",
    "    observation, reward, done, info = env.step(2)\n",
    "  \n",
    "    #print(observation, reward, done, info)\n",
    "    steps_completed += 1 \n",
    "    total_reward += reward\n",
    "  \n",
    "    render(observation)\n",
    "    \n",
    "    if done:\n",
    "        episodes_completed += 1\n",
    "        print(\"Episodes Completed:\", episodes_completed, \"Steps:\", steps_completed, \"Reward\", total_reward)\n",
    "        steps_completed = 0\n",
    "        total_reward = 0"
   ]
  },
  {
   "cell_type": "markdown",
   "id": "26570f85",
   "metadata": {},
   "source": [
    "## Saving the images"
   ]
  },
  {
   "cell_type": "code",
   "execution_count": null,
   "id": "999283d4",
   "metadata": {},
   "outputs": [],
   "source": [
    "for i, img in enumerate(lefts):\n",
    "    cv2.imwrite(f'data/left_{i:04}.png', img)\n",
    "    \n",
    "for i, img in enumerate(rights):\n",
    "    cv2.imwrite(f'data/right_{i:04}.png', img)"
   ]
  },
  {
   "cell_type": "markdown",
   "id": "aebc895e",
   "metadata": {},
   "source": [
    "## Reading images"
   ]
  },
  {
   "cell_type": "code",
   "execution_count": null,
   "id": "06d4d399",
   "metadata": {},
   "outputs": [],
   "source": [
    "img = cv2.imread(f'data/left_0000.png', cv2.IMREAD_GRAYSCALE)"
   ]
  },
  {
   "cell_type": "code",
   "execution_count": null,
   "id": "96c32b87",
   "metadata": {},
   "outputs": [],
   "source": [
    "%matplotlib inline\n",
    "plt.imshow(img)"
   ]
  },
  {
   "cell_type": "markdown",
   "id": "73c6845d",
   "metadata": {},
   "source": [
    "## Selecting threshold"
   ]
  },
  {
   "cell_type": "code",
   "execution_count": null,
   "id": "e91a5cf2",
   "metadata": {},
   "outputs": [],
   "source": [
    "%matplotlib inline\n",
    "histogram, bin_edges = np.histogram(img, range=(100,255), bins=100)\n",
    "\n",
    "plt.plot(bin_edges[1:], histogram)\n",
    "plt.xlim((100,255))"
   ]
  },
  {
   "cell_type": "code",
   "execution_count": null,
   "id": "c4e81b97",
   "metadata": {},
   "outputs": [],
   "source": [
    "%matplotlib notebook\n",
    "\n",
    "from ipywidgets import interact, interactive, fixed, interact_manual\n",
    "import ipywidgets as widget\n",
    "\n",
    "fig = plt.figure()\n",
    "image = plt.imshow((img > 155).astype(float))\n",
    "\n",
    "@interact(t=(0,255))\n",
    "def g(t):\n",
    "    image.set_data((img > t).astype(float))\n",
    "    fig.canvas.draw_idle()"
   ]
  },
  {
   "cell_type": "code",
   "execution_count": null,
   "id": "1c0ab4a9",
   "metadata": {},
   "outputs": [],
   "source": [
    "img = cv2.imread(f'data/left_0160.png', cv2.IMREAD_GRAYSCALE)"
   ]
  },
  {
   "cell_type": "code",
   "execution_count": null,
   "id": "daf6ea64",
   "metadata": {},
   "outputs": [],
   "source": [
    "plt.imshow(img)"
   ]
  },
  {
   "cell_type": "code",
   "execution_count": null,
   "id": "f7809ae3",
   "metadata": {},
   "outputs": [],
   "source": [
    "dst = cv2.fastNlMeansDenoising(img.astype('uint8'),20,10,21)\n",
    "\n",
    "plt.imshow(dst)\n",
    "plt.colorbar()"
   ]
  },
  {
   "cell_type": "code",
   "execution_count": null,
   "id": "6e9ac9c9",
   "metadata": {},
   "outputs": [],
   "source": [
    "%matplotlib inline\n",
    "\n",
    "histogram, bin_edges = np.histogram(img, range=(100,255), bins=100)\n",
    "\n",
    "plt.plot(bin_edges[1:], histogram)\n",
    "plt.xlim((100,255))"
   ]
  },
  {
   "cell_type": "code",
   "execution_count": null,
   "id": "d25f2910",
   "metadata": {},
   "outputs": [],
   "source": [
    "plt.imshow(dst > 160)"
   ]
  },
  {
   "cell_type": "markdown",
   "id": "e6e1dfcf",
   "metadata": {},
   "source": [
    "## Hough Transform"
   ]
  },
  {
   "cell_type": "code",
   "execution_count": null,
   "id": "9b92579f",
   "metadata": {},
   "outputs": [],
   "source": [
    "from skimage import measure\n",
    "import numpy as np\n",
    "\n",
    "def keep_long_components(img, threshold=50):\n",
    "    \n",
    "    blobs_labels = measure.label(img, background=0)\n",
    "    kept_labels = []\n",
    "\n",
    "    for lab in range(1, len(np.unique(blobs_labels))):\n",
    "        x,y = np.nonzero(np.where(blobs_labels == lab, 1, 0))\n",
    "        \n",
    "        if np.max(y) - np.min(y) > threshold:\n",
    "            kept_labels.append(lab)\n",
    "            \n",
    "    return np.where(np.isin(blobs_labels, kept_labels), 255, 0)"
   ]
  },
  {
   "cell_type": "code",
   "execution_count": null,
   "id": "364ab2bd",
   "metadata": {},
   "outputs": [],
   "source": [
    "%matplotlib inline\n",
    "def hough(minline1, maxline1, minline2, maxline2, init_thresh=200):\n",
    "    \n",
    "    new_img = np.copy(img)\n",
    "    thresholded = (img > init_thresh).astype('uint8')*255\n",
    "    \n",
    "    # dilation kernel to select only rotating road on side\n",
    "    kernel = np.ones((5,5),np.uint8)\n",
    "    dilation = cv2.dilate(thresholded,kernel,iterations = 1)\n",
    "    long_comp = keep_long_components(dilation)\n",
    "    img0.set_data(long_comp)\n",
    "    \n",
    "    # removing rest to keep only middle road\n",
    "    kernel = cv2.getStructuringElement(cv2.MORPH_RECT, ksize=(60,7))\n",
    "    dilation3 = cv2.dilate(long_comp.astype('uint8'),kernel,iterations = 1, borderType = cv2.BORDER_REFLECT)\n",
    "    center = (((thresholded - dilation3) > 1).astype('float'))\n",
    "    \n",
    "    outputImage = cv2.copyMakeBorder(\n",
    "                center, \n",
    "                 50, \n",
    "                 50, \n",
    "                 50, \n",
    "                 50, \n",
    "                 cv2.BORDER_CONSTANT, \n",
    "                 value=0\n",
    "              )\n",
    "    \n",
    "\n",
    "    kernel = np.ones((50,50),np.uint8)\n",
    "    middle_road = cv2.morphologyEx(outputImage, cv2.MORPH_CLOSE, kernel)[50:-50, 50:-50]\n",
    "    img1.set_data(middle_road*255)\n",
    "    \n",
    "    # HOUGH for side road\n",
    "    lines = cv2.HoughLinesP(long_comp.astype('uint8'),10, np.pi/180, 100, minline1, maxline1)\n",
    "    if lines is not None:\n",
    "        x1,y1,x2,y2 = np.ravel(lines.mean(axis=0).astype('int32'))\n",
    "\n",
    "        cv2.line(new_img, (x1, y1), (x2 , y2), 255,10)\n",
    "        deg_from_horizontal = np.arctan2((y2-y1,1), (x2-x1,0))[0]*180/3.14\n",
    "        axs[2].set_title(f'Angle from horizontal: {deg_from_horizontal:.2f}')\n",
    "        \n",
    "    # HOUGH for middle road\n",
    "    lines = cv2.HoughLinesP(middle_road.astype('uint8')*255 ,10, np.pi/180, 100, minline2, maxline2)\n",
    "    if lines is not None:\n",
    "        x1,y1,x2,y2 = np.ravel(lines.mean(axis=0).astype('int32'))\n",
    "        cv2.line(new_img,(x1, y1), (x2 , y2), 128, 10)\n",
    "\n",
    "        \n",
    "    img2.set_data(new_img)\n",
    "    \n",
    "    fig.canvas.draw()"
   ]
  },
  {
   "cell_type": "code",
   "execution_count": null,
   "id": "0279e001",
   "metadata": {},
   "outputs": [],
   "source": [
    "imgs = [cv2.fastNlMeansDenoising(cv2.imread(f'data/left_{i:04}.png', cv2.IMREAD_GRAYSCALE)[20:].astype('uint8'),20,10,21) for i in range(100,140)]\n",
    "\n",
    "for img in imgs:\n",
    "    fig, axs = plt.subplots(ncols=3, figsize=(15,10))\n",
    "    img0, img1, img2 = axs[0].imshow(img), axs[1].imshow(img), axs[2].imshow(img)\n",
    "    hough(500, 50, 300, 30, init_thresh=150)\n",
    "    plt.show()"
   ]
  }
 ],
 "metadata": {
  "kernelspec": {
   "display_name": "Python 3",
   "language": "python",
   "name": "python3"
  },
  "language_info": {
   "codemirror_mode": {
    "name": "ipython",
    "version": 3
   },
   "file_extension": ".py",
   "mimetype": "text/x-python",
   "name": "python",
   "nbconvert_exporter": "python",
   "pygments_lexer": "ipython3",
   "version": "3.6.13"
  }
 },
 "nbformat": 4,
 "nbformat_minor": 5
}
