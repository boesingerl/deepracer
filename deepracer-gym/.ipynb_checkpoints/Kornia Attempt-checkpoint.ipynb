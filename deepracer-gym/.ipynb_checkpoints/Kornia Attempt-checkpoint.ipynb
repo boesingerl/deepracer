{
 "cells": [
  {
   "cell_type": "code",
   "execution_count": 1,
   "id": "83f4453d",
   "metadata": {},
   "outputs": [],
   "source": [
    "import torch\n",
    "import kornia\n",
    "import cv2\n",
    "import matplotlib.pyplot as plt \n",
    "import numpy as np\n",
    "\n",
    "from kornia.morphology import dilation, opening, closing\n",
    "from kornia.utils import tensor_to_image, draw_rectangle\n",
    "from kornia.contrib import connected_components\n",
    "from kornia.geometry.transform import resize\n"
   ]
  },
  {
   "cell_type": "code",
   "execution_count": 2,
   "id": "82c195fb",
   "metadata": {},
   "outputs": [],
   "source": [
    "def get_side(tensor, general_thresh=160, sidelength_threshold=50):\n",
    "\n",
    "    assert tensor.ndim == 2\n",
    "    \n",
    "    # compute thresholded image (only white parts)\n",
    "    thresholded = tensor[20:] > general_thresh\n",
    "\n",
    "    # dilate to keep them together\n",
    "    dilated = dilation(thresholded[None, None, :, :], torch.ones(5,20, device='cuda:0'), border_type='constant')\n",
    "    connected_comp = connected_components(dilated, num_iterations=200)\n",
    "    \n",
    "    # keep connected components with large enough horizontal length\n",
    "    labels = connected_comp.unique(sorted=True)[1:]\n",
    "    kept_labels = []\n",
    "\n",
    "    for lab in labels:\n",
    "        _,_,x,y = torch.nonzero(torch.where(connected_comp == lab, 1, 0), as_tuple=True)\n",
    "\n",
    "        if torch.max(y) - torch.min(y) > sidelength_threshold:\n",
    "            kept_labels.append(lab)\n",
    "            \n",
    "    side = (connected_comp[..., None] == torch.tensor(kept_labels, device='cuda:0')).any(-1).double()\n",
    "    \n",
    "    return side"
   ]
  },
  {
   "cell_type": "code",
   "execution_count": 28,
   "id": "4cb868f2",
   "metadata": {},
   "outputs": [],
   "source": [
    "def tensor_to_features(tensor, side_thresh=200, mid_thresh=160, sidelength_threshold=50):\n",
    "\n",
    "    assert tensor.ndim == 2\n",
    "    \n",
    "    # compute thresholded image (only white parts)\n",
    "    side_thresholded = tensor[20:] > side_thresh\n",
    "    mid_thresholded  = (tensor[20:] > mid_thresh)[None, None, :, :]\n",
    "    \n",
    "    # dilate to keep them together\n",
    "    dilated = dilation(side_thresholded[None, None, :, :], torch.ones(5,20, device='cuda:0'), border_type='constant')\n",
    "    connected_comp = connected_components(dilated, num_iterations=200)\n",
    "    \n",
    "    # keep connected components with large enough horizontal length\n",
    "    labels = connected_comp.unique(sorted=True)[1:]\n",
    "    kept_labels = []\n",
    "\n",
    "    for lab in labels:\n",
    "        _,_,x,y = torch.nonzero(torch.where(connected_comp == lab, 1, 0), as_tuple=True)\n",
    "\n",
    "        if torch.max(y) - torch.min(y) > sidelength_threshold:\n",
    "            kept_labels.append(lab)\n",
    "            \n",
    "    side = (connected_comp[..., None] == torch.tensor(kept_labels, device='cuda:0')).any(-1).double()\n",
    "\n",
    "    # dilate side line to remove it from rest of image\n",
    "    dilated_side = dilation(side, torch.ones(10,7,device='cuda:0'), border_type='constant')\n",
    "    removed_upper = ((mid_thresholded.double() - dilated_side) > 0).double()\n",
    "    \n",
    "    # open to remove noise\n",
    "    open_mid = opening(removed_upper, torch.ones(6,6, device='cuda:0'))\n",
    "    \n",
    "    # close to join midlines together\n",
    "    closed_midline = closing(open_mid, torch.ones(40,40, device='cuda:0'), border_type='geodesic')\n",
    "    closed_midline = draw_rectangle(closed_midline, torch.tensor([[[0, 0, 160, 120]]], device='cuda:0'), fill=torch.zeros(1, device='cuda:0'))\n",
    "    \n",
    "    # reassemble together in a single image\n",
    "    resized_mid  = (resize(closed_midline,(16,16), interpolation='area') > 0.2).double()*0.5\n",
    "    resized_side = (resize(side,(16,16), interpolation='area') > 0.2).double()\n",
    "    \n",
    "    return resized_mid + resized_side"
   ]
  },
  {
   "cell_type": "code",
   "execution_count": 30,
   "id": "c442036a",
   "metadata": {},
   "outputs": [
    {
     "data": {
      "text/plain": [
       "<matplotlib.image.AxesImage at 0x7ff4d587e198>"
      ]
     },
     "execution_count": 30,
     "metadata": {},
     "output_type": "execute_result"
    },
    {
     "data": {
      "image/png": "[encoded data removed]",
      "text/plain": [
       "<Figure size 432x288 with 1 Axes>"
      ]
     },
     "metadata": {
      "needs_background": "light"
     },
     "output_type": "display_data"
    }
   ],
   "source": [
    "img = cv2.imread('data/left_0000.png', cv2.IMREAD_GRAYSCALE)\n",
    "tensor = torch.tensor(img, device='cuda:0')\n",
    "plt.imshow(tensor_to_image(tensor_to_features(tensor, side_thresh=200, mid_thresh=160)))"
   ]
  },
  {
   "cell_type": "code",
   "execution_count": 6,
   "id": "d5e4c69b",
   "metadata": {},
   "outputs": [
    {
     "data": {
      "text/plain": [
       "tensor([0, 1], device='cuda:0', dtype=torch.int32)"
      ]
     },
     "execution_count": 6,
     "metadata": {},
     "output_type": "execute_result"
    }
   ],
   "source": [
    "tensor_to_features(tensor, side_thresh=200, mid_thresh=160).unique()"
   ]
  }
 ],
 "metadata": {
  "kernelspec": {
   "display_name": "Python 3",
   "language": "python",
   "name": "python3"
  },
  "language_info": {
   "codemirror_mode": {
    "name": "ipython",
    "version": 3
   },
   "file_extension": ".py",
   "mimetype": "text/x-python",
   "name": "python",
   "nbconvert_exporter": "python",
   "pygments_lexer": "ipython3",
   "version": "3.6.13"
  }
 },
 "nbformat": 4,
 "nbformat_minor": 5
}
